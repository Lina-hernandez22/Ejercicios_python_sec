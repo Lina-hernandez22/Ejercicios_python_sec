{
  "nbformat": 4,
  "nbformat_minor": 0,
  "metadata": {
    "colab": {
      "provenance": [],
      "authorship_tag": "ABX9TyNSQB9xvBG2TUNfYY5DE40c",
      "include_colab_link": true
    },
    "kernelspec": {
      "name": "python3",
      "display_name": "Python 3"
    },
    "language_info": {
      "name": "python"
    }
  },
  "cells": [
    {
      "cell_type": "markdown",
      "metadata": {
        "id": "view-in-github",
        "colab_type": "text"
      },
      "source": [
        "<a href=\"https://colab.research.google.com/github/Lina-hernandez22/Ejercicios_python_sec/blob/main/ejercicios2.ipynb\" target=\"_parent\"><img src=\"https://colab.research.google.com/assets/colab-badge.svg\" alt=\"Open In Colab\"/></a>"
      ]
    },
    {
      "cell_type": "code",
      "execution_count": 3,
      "metadata": {
        "colab": {
          "base_uri": "https://localhost:8080/"
        },
        "id": "0fRkbgbPec3H",
        "outputId": "656f57fb-6522-4b59-89f8-fecf0cf6df90"
      },
      "outputs": [
        {
          "output_type": "stream",
          "name": "stdout",
          "text": [
            "ingrese la base del triangulo10\n",
            "ingrese la altura del triangulo5\n",
            "terreno adecuado\n"
          ]
        }
      ],
      "source": [
        "b = float(input(\"ingrese la base del triangulo\"))\n",
        "h = float(input(\"ingrese la altura del triangulo\"))\n",
        "A = (b*h)/2\n",
        "\n",
        "if A > 1000 :\n",
        " print(\"terreno grande\")\n",
        "else:\n",
        " print(\"terreno adecuado\")\n",
        "\n"
      ]
    },
    {
      "cell_type": "code",
      "source": [
        "precio = float(input(\"ingrese el precio por docena: \"))\n",
        "docenas = float(input(\"ingrese el numero de docenas: \"))\n",
        "\n",
        "if docenas >= 10:\n",
        "  descuento = ((precio * docenas)*0.15)\n",
        "\n",
        "else:\n",
        "  descuento = ((precio*docena)*0.11)\n",
        "\n",
        "precio_total = (docenas * precio)\n",
        "\n",
        "print(\"el descuento que le haremos a su docena es de $:\", descuento, \"y el precio total del producto sin descuento es:\", precio_total)\n"
      ],
      "metadata": {
        "colab": {
          "base_uri": "https://localhost:8080/"
        },
        "id": "MCCNFmy3e6Z6",
        "outputId": "dd00d2e2-924d-4e11-ceb4-c0ab3eeb8372"
      },
      "execution_count": 10,
      "outputs": [
        {
          "output_type": "stream",
          "name": "stdout",
          "text": [
            "ingrese el precio por docena: 50000\n",
            "ingrese el numero de docenas: 10\n",
            "el descuento que le haremos a su docena es de $: 75000.0 y el precio total del producto sin descuento es: 500000.0\n"
          ]
        }
      ]
    },
    {
      "cell_type": "code",
      "source": [],
      "metadata": {
        "id": "VXBOIVXQoHx3"
      },
      "execution_count": null,
      "outputs": []
    }
  ]
}