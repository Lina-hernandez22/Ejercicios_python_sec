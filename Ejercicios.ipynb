{
  "nbformat": 4,
  "nbformat_minor": 0,
  "metadata": {
    "colab": {
      "provenance": [],
      "authorship_tag": "ABX9TyMB13OLs7MhMhOWCz1pfgLo",
      "include_colab_link": true
    },
    "kernelspec": {
      "name": "python3",
      "display_name": "Python 3"
    },
    "language_info": {
      "name": "python"
    }
  },
  "cells": [
    {
      "cell_type": "markdown",
      "metadata": {
        "id": "view-in-github",
        "colab_type": "text"
      },
      "source": [
        "<a href=\"https://colab.research.google.com/github/Lina-hernandez22/Ejercicios_python_sec/blob/main/Ejercicios.ipynb\" target=\"_parent\"><img src=\"https://colab.research.google.com/assets/colab-badge.svg\" alt=\"Open In Colab\"/></a>"
      ]
    },
    {
      "cell_type": "code",
      "execution_count": 1,
      "metadata": {
        "id": "Kw-iagfbb5Ul",
        "outputId": "edcde871-d9e2-4b34-bb63-571661632bd7",
        "colab": {
          "base_uri": "https://localhost:8080/"
        }
      },
      "outputs": [
        {
          "output_type": "stream",
          "name": "stdout",
          "text": [
            "escriba su nombre: Lina\n",
            "cual es tu edad? 18\n",
            "Hola, Lina\n",
            "Tienes 18 años\n"
          ]
        }
      ],
      "source": [
        "name = input(\"escriba su nombre: \")\n",
        "age = input(\"cual es tu edad? \")\n",
        "print(\"Hola,\" , name)\n",
        "print(\"Tienes\", str(age) , \"años\")\n"
      ]
    },
    {
      "cell_type": "markdown",
      "source": [
        "## Ejercicio 1: Área de un rectangulo\n",
        "Calcular el area de un rectangulo a partir de su base y altura\n",
        "\n",
        "A = b * h\n"
      ],
      "metadata": {
        "id": "MhMyiC-PeVWy"
      }
    },
    {
      "cell_type": "code",
      "source": [
        "print(\"programa para calcular el area de un rectangulo\")\n",
        "b = float(input(\"ingrese la base (m): \"))\n",
        "h = float(input(\"ingrese la altura (m):\"))\n",
        "A = b * h\n",
        "print(\"El area del rectangulo con base\", str(b), \"(m) y altura\", str(h), \"(m) es\", str(A), \"m2.\")\n"
      ],
      "metadata": {
        "id": "iWlw0JA8c0U4",
        "outputId": "7bae1928-79f9-48ba-fed1-92405581926d",
        "colab": {
          "base_uri": "https://localhost:8080/"
        }
      },
      "execution_count": 4,
      "outputs": [
        {
          "output_type": "stream",
          "name": "stdout",
          "text": [
            "programa para calcular el area de un rectangulo\n",
            "ingrese la base (m): 5\n",
            "ingrese la altura (m):10\n",
            "El area del rectangulo con base 5.0 (m) y altura 10.0 (m) es 50.0 m2.\n"
          ]
        }
      ]
    },
    {
      "cell_type": "markdown",
      "source": [
        "## Ejercicio 2: Area de un triangulo\n",
        "calcular y mostrar el area de un triangulo:\n",
        "\n",
        "A = b * h / 2"
      ],
      "metadata": {
        "id": "epDYEeo3glZ6"
      }
    },
    {
      "cell_type": "code",
      "source": [
        "print(\"programa para calcular el area de un triangulo\")\n",
        "b = float(input(\"ingrese la base (m): \"))\n",
        "h = float(input(\"ingrese la altura (m): \"))\n",
        "A = b * h / 2\n",
        "print(\"El area del triangulo con base\", str(b), \"(m) y altura\", str(h), \"(m) es\", str(A), \"m2\")\n",
        "\n"
      ],
      "metadata": {
        "id": "sP1PBxnbfoCa",
        "outputId": "81224318-7f5c-42d7-a539-a3ba850d751e",
        "colab": {
          "base_uri": "https://localhost:8080/"
        }
      },
      "execution_count": 5,
      "outputs": [
        {
          "output_type": "stream",
          "name": "stdout",
          "text": [
            "programa para calcular el area de un triangulo\n",
            "ingrese la base (m): 15\n",
            "ingrese la altura (m): 22\n",
            "El area del triangulo con base 15.0 (m) y altura 22.0 (m) es 165.0 m2\n"
          ]
        }
      ]
    },
    {
      "cell_type": "markdown",
      "source": [
        "## Ejercicio 3: Area de un Circulo\n",
        "calcular y mostrar el area d eun circulo\n",
        "\n",
        "A = pi * r ** 2"
      ],
      "metadata": {
        "id": "cLU2BJ9Oh_hL"
      }
    },
    {
      "cell_type": "code",
      "source": [
        "import math\n",
        "print(\"programa para calcular el area de un circulo\")\n",
        "r = float(input(\"ingrese el radio (m): \"))\n",
        "A = math.pi * r ** 2\n",
        "print(\"el area del circulo cn radio\", str(r), \"(m) es\", str(A), \"m2.\")\n"
      ],
      "metadata": {
        "id": "D8E5vEcQh06o",
        "outputId": "c77d1ef5-d654-41de-a300-467ff8caf737",
        "colab": {
          "base_uri": "https://localhost:8080/"
        }
      },
      "execution_count": 6,
      "outputs": [
        {
          "output_type": "stream",
          "name": "stdout",
          "text": [
            "programa para calcular el area de un circulo\n",
            "ingrese el radio (m): 12.5\n",
            "el area del circulo cn radio 12.5 (m) es 490.8738521234052 m2.\n"
          ]
        }
      ]
    },
    {
      "cell_type": "markdown",
      "source": [
        "## Ejercicio 4: voltaje\n",
        "calcular el voltaje en instatantaneo para un tiempo t, dado su frecuencia, amplitud y angulo\n",
        "\n",
        "theta = ang * pi / 180\n",
        "omega = 2 * pi * f\n",
        "v = amp * cos(omega * t + theta)\n",
        "\n",
        "$$\\theta_v = ang * \\pi * / 180$$\n",
        "$$\\omega = 2 \\pi f $$\n",
        "$$v(t) = V cos(\\omega t + \\theta_v)$$"
      ],
      "metadata": {
        "id": "Dqk9AiNfjWTX"
      }
    },
    {
      "cell_type": "code",
      "source": [
        "print(\"programa para calcular el voltaje\")\n",
        "V = float(input(\"ingrese la amplitud (v): \"))\n",
        "f = float(input(\"ingrese la frecuencia (f): \"))\n",
        "ang = float(input(\"ingrese el angulo de fase (°): \"))\n",
        "\n",
        "t = float(input(\"ingrese el instante de tiempo (s): \"))\n",
        "\n",
        "omega = 2 * math.pi * f\n",
        "theta = ang * math.pi / 180\n",
        "v_t = V * math.cos(omega * t + theta)\n",
        "\n",
        "print(\"El voltaje instantaneo para los datos ingresados es: \", str(v_t), \"V.\")\n"
      ],
      "metadata": {
        "id": "i__A4QLTjQc_",
        "outputId": "e1a5433c-ae32-464d-b755-29292d4d90a0",
        "colab": {
          "base_uri": "https://localhost:8080/"
        }
      },
      "execution_count": 7,
      "outputs": [
        {
          "output_type": "stream",
          "name": "stdout",
          "text": [
            "programa para calcular el voltaje\n",
            "ingrese la amplitud (v): 208\n",
            "ingrese la frecuencia (f): 60\n",
            "ingrese el angulo de fase (°): 30\n",
            "ingrese el instante de tiempo (s): 15\n",
            "El voltaje instantaneo para los datos ingresados es:  180.13328398715777 V.\n"
          ]
        }
      ]
    },
    {
      "cell_type": "code",
      "source": [],
      "metadata": {
        "id": "7OzKH14Xmenj"
      },
      "execution_count": null,
      "outputs": []
    }
  ]
}